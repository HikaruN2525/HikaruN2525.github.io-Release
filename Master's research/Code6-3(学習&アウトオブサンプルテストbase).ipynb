{
 "cells": [
  {
   "cell_type": "markdown",
   "id": "e240b7d2",
   "metadata": {},
   "source": [
    "## ●Notebookの内容\n",
    "\n",
    "前処理&形状変換後データ(コード5の「変数選択後の前処理&形状変換」で作成したもの)の読み込みと左右の入れ込みデータの時点ずらし、モデルの学習、学習損失lossとアウトオブサンプルテスト損失lossの可視化と保存"
   ]
  },
  {
   "cell_type": "markdown",
   "id": "a6b54145",
   "metadata": {},
   "source": [
    "# 1. 前準備"
   ]
  },
  {
   "cell_type": "markdown",
   "id": "b8bbd19d",
   "metadata": {},
   "source": [
    "## 1.1 パッケージのインポート・乱数固定"
   ]
  },
  {
   "cell_type": "code",
   "execution_count": 1,
   "id": "f134932c",
   "metadata": {},
   "outputs": [
    {
     "data": {
      "text/plain": [
       "<torch._C.Generator at 0x7fabfb33a030>"
      ]
     },
     "execution_count": 1,
     "metadata": {},
     "output_type": "execute_result"
    }
   ],
   "source": [
    "import pandas as pd #pandasパッケージをインポート\n",
    "import numpy as np #numpyパッケージをインポート\n",
    "import torch #ライブラリ「PyTorch」のtorchパッケージをインポート\n",
    "import torch.nn as nn #「ニューラルネットワーク」モジュールの別名定義\n",
    "import torch.nn.functional as F #「ニューラルネットワーク・活性化関数」モジュールの別名定義\n",
    "import collections\n",
    "import os\n",
    "import pickle\n",
    "import optuna\n",
    "import torch.optim as optim\n",
    "\n",
    "#乱数の固定\n",
    "torch.manual_seed(123)"
   ]
  },
  {
   "cell_type": "markdown",
   "id": "cf32e8a7",
   "metadata": {},
   "source": [
    "## 1.2 MPSの使用指定"
   ]
  },
  {
   "cell_type": "code",
   "execution_count": 2,
   "id": "996ab369",
   "metadata": {},
   "outputs": [
    {
     "name": "stdout",
     "output_type": "stream",
     "text": [
      "MPSの使用は True である(Trueなら使用可能、Falseなら使用不可)。\n"
     ]
    }
   ],
   "source": [
    "if torch.backends.mps.is_available():\n",
    "    device = torch.device(\"mps\")\n",
    "print('MPSの使用は',torch.backends.mps.is_available(),'である(Trueなら使用可能、Falseなら使用不可)。')"
   ]
  },
  {
   "cell_type": "markdown",
   "id": "49329695",
   "metadata": {},
   "source": [
    "# 2. モデルパラメータ数算出関数の定義"
   ]
  },
  {
   "cell_type": "code",
   "execution_count": 3,
   "id": "ceaffa9f",
   "metadata": {},
   "outputs": [],
   "source": [
    "from prettytable import PrettyTable\n",
    "\n",
    "def count_parameters2(model):\n",
    "    table = PrettyTable(['Modules', 'Parameters'])\n",
    "    total_params = 0\n",
    "    for name, parameter in model.named_parameters():\n",
    "        if not parameter.requires_grad: continue\n",
    "        params = parameter.numel()\n",
    "        table.add_row([name, params])\n",
    "        total_params+=params\n",
    "    #print(table)\n",
    "    #print(f'Total Trainable Params: {total_params}')\n",
    "    return total_params"
   ]
  },
  {
   "cell_type": "markdown",
   "id": "36cd73ec",
   "metadata": {},
   "source": [
    "# 3. 整理後データの読み込みと時点ずらし作業\n",
    "財務データ：1994/12〜2021/11\n",
    "\n",
    "配当込み収益率：1995/01〜2021/12"
   ]
  },
  {
   "cell_type": "code",
   "execution_count": 4,
   "id": "b9b1bb9b",
   "metadata": {
    "scrolled": false
   },
   "outputs": [],
   "source": [
    "pickle_in = open(\"./inright_data.pickle\",\"rb\") #ファイルの読み込み, 配当込み収益率はランク正規化をしていないデータであることに注意\n",
    "pickle_in_2 = open(\"./inleft_data.pickle\",\"rb\") #ファイルの読み込み\n",
    "pickle_in_3 = open(\"./ranked_data.pickle\",\"rb\") #ファイルの読み込み\n",
    "returns_data_4_0 = pickle.load(pickle_in)\n",
    "returns_data_4 = returns_data_4_0.iloc[1:,0:].reset_index().iloc[:,1:] #1995/1~2021/12のデータを抽出\n",
    "data_5_11_0 = pickle.load(pickle_in_2)\n",
    "data_5_11 = data_5_11_0.iloc[:324,0:].reset_index().iloc[:,1:] #1994/12~2021/11のデータを抽出\n",
    "data_5_7_0 = pickle.load(pickle_in_3)\n",
    "data_5_7_1 = data_5_7_0.query('期日.str.contains(\"1994\")', engine='python') #1994のデータを抽出\n",
    "data_5_7_2 = data_5_7_1.index.values.tolist() #1994/12のデータのindexをlist型に変更\n",
    "data_5_7 = data_5_7_0[~data_5_7_0.index.isin(data_5_7_2)] #1994/12のデータのindexにあうものを削除\n",
    "pickle_in.close()\n",
    "pickle_in_2.close()\n",
    "pickle_in_3.close()\n",
    "#display(returns_data_4), display(data_5_11), display(data_5_7)"
   ]
  },
  {
   "cell_type": "code",
   "execution_count": 5,
   "id": "fc2150fc",
   "metadata": {},
   "outputs": [
    {
     "name": "stdout",
     "output_type": "stream",
     "text": [
      "分析対象データの月数は 324 、 企業数は 1141.0 、 企業特性数は 40.0 である。\n"
     ]
    }
   ],
   "source": [
    "day_num_5 = data_5_7.期日.nunique(dropna = True) #期日の数(月数)\n",
    "com_num_5 = data_5_7.shape[0]/day_num_5 #分析可能な企業数\n",
    "chara_num = data_5_11.shape[1]/int(com_num_5) #用いる企業特性の数\n",
    "print('分析対象データの月数は',day_num_5,'、', '企業数は',com_num_5,'、', '企業特性数は',chara_num,'である。')"
   ]
  },
  {
   "cell_type": "markdown",
   "id": "c26ce051",
   "metadata": {},
   "source": [
    "# 4. 入力データの準備"
   ]
  },
  {
   "cell_type": "code",
   "execution_count": 6,
   "id": "f3ffd6a1",
   "metadata": {},
   "outputs": [
    {
     "name": "stdout",
     "output_type": "stream",
     "text": [
      "右側ファクターネットワークの入力データの形状は (324, 1141) 、 左側ベータネットワークの入力データの形状は (324, 45640) である。\n"
     ]
    }
   ],
   "source": [
    "#右側ファクターネットワークの入力データ\n",
    "x = returns_data_4.to_numpy()\n",
    "#左側ベータネットワークの入力データ\n",
    "y = data_5_11.iloc[:,0:].to_numpy()\n",
    "x_2 = torch.tensor(x, dtype=torch.float32)\n",
    "y_2 = torch.tensor(y, dtype=torch.float32)\n",
    "print('右側ファクターネットワークの入力データの形状は',x.shape,'、', '左側ベータネットワークの入力データの形状は',y.shape,'である。')"
   ]
  },
  {
   "cell_type": "markdown",
   "id": "d32f1514",
   "metadata": {
    "id": "LbFcB0aBo0ou"
   },
   "source": [
    "# 5. オートエンコーダークラスの生成"
   ]
  },
  {
   "cell_type": "markdown",
   "id": "1c9875d1",
   "metadata": {},
   "source": [
    "## 5.1 CA$_{1}$アーキテクチャ(左側に第1層を追加)"
   ]
  },
  {
   "cell_type": "code",
   "execution_count": 7,
   "id": "8d245586",
   "metadata": {
    "scrolled": true
   },
   "outputs": [
    {
     "name": "stdout",
     "output_type": "stream",
     "text": [
      "Factors(\n",
      "  (fc_r1): Linear(in_features=1141, out_features=5, bias=True)\n",
      "  (fc_l1): Linear(in_features=45640, out_features=32, bias=True)\n",
      "  (fc_l2): Linear(in_features=32, out_features=5705, bias=True)\n",
      ")\n"
     ]
    }
   ],
   "source": [
    "class Factors(nn.Module):\n",
    "    def __init__(self):\n",
    "        super(Factors, self).__init__()\n",
    "        \n",
    "        #層(layer：レイヤー)を定義\n",
    "        \n",
    "        ##右側(ファクターネットワーク)の層\n",
    "        self.fc_r1 = nn.Linear( \n",
    "            N*1, #データ(特徴)の入力ユニット数(1059銘柄*1)\n",
    "            K*1) #出力ユニット数(5ファクター*1)\n",
    "\n",
    "        ##左側(ベータネットワーク)の層\n",
    "        self.fc_l1 = nn.Linear(\n",
    "            N*P, #データ(特徴)の入力ユニット数(1059銘柄*85企業特性)\n",
    "            lhidden) #出力ユニット数(32)\n",
    "        \n",
    "        self.fc_l2 = nn.Linear(\n",
    "            lhidden, #入力ユニット数(32)\n",
    "            N*K) #出力結果への出力ユニット数(1059銘柄*5ファクター)\n",
    "        \n",
    "    def forward(self, x, y):\n",
    "        # フォワードパスを定義\n",
    "        \n",
    "        #右側(ファクターネットワーク)のフォワードパスを定義\n",
    "        x = (self.fc_r1(x))\n",
    "        \n",
    "        #左側(ベータネットワーク)のフォワードパスを定義\n",
    "        y = F.relu(self.fc_l1(y)) #ReLU関数を適用\n",
    "        y = F.relu(self.fc_l2(y)) #ReLU関数を適用\n",
    "        \n",
    "        #サイズ自動調整\n",
    "        y = y.view(K, N) #サイズ自動調整\n",
    "        x = x.view(1, K) #サイズ自動調整\n",
    "        \n",
    "        return x, y #返り値\n",
    "\n",
    "#NNの初期値\n",
    "N = int(com_num_5) #銘柄数(1059銘柄)\n",
    "P = int(chara_num)   #企業特性数(85特性)\n",
    "K = 5    #ファクター数\n",
    "lhidden = 32  #左側隠れ層1での圧縮次元数\n",
    "\n",
    "#モデル（Factorsクラス）のインスタンス化\n",
    "model = Factors()\n",
    "\n",
    "model = model.to(device)\n",
    "\n",
    "print(model) #モデルの内容を出力"
   ]
  },
  {
   "cell_type": "code",
   "execution_count": 8,
   "id": "2634ef75",
   "metadata": {},
   "outputs": [
    {
     "data": {
      "text/plain": [
       "1654487"
      ]
     },
     "execution_count": 8,
     "metadata": {},
     "output_type": "execute_result"
    }
   ],
   "source": [
    "from prettytable import PrettyTable\n",
    "\n",
    "def count_parameters2(model):\n",
    "    table = PrettyTable(['Modules', 'Parameters'])\n",
    "    total_params = 0\n",
    "    for name, parameter in model.named_parameters():\n",
    "        if not parameter.requires_grad: continue\n",
    "        params = parameter.numel()\n",
    "        table.add_row([name, params])\n",
    "        total_params+=params\n",
    "    #print(table)\n",
    "    #print(f'Total Trainable Params: {total_params}')\n",
    "    return total_params\n",
    "count_parameters2(model)"
   ]
  },
  {
   "cell_type": "markdown",
   "id": "acb2c927",
   "metadata": {},
   "source": [
    "## 5.2 CA$_{1}$アーキテクチャ(左側に第1層を追加、P×1圧縮あり)"
   ]
  },
  {
   "cell_type": "code",
   "execution_count": 9,
   "id": "c4626eee",
   "metadata": {},
   "outputs": [
    {
     "name": "stdout",
     "output_type": "stream",
     "text": [
      "Factors(\n",
      "  (fc_r1): Linear(in_features=1141, out_features=40, bias=True)\n",
      "  (fc_r2): Linear(in_features=40, out_features=5, bias=True)\n",
      "  (fc_l1): Linear(in_features=45640, out_features=32, bias=True)\n",
      "  (fc_l2): Linear(in_features=32, out_features=5705, bias=True)\n",
      ")\n"
     ]
    }
   ],
   "source": [
    "class Factors(nn.Module):\n",
    "    def __init__(self):\n",
    "        super(Factors, self).__init__()\n",
    "        \n",
    "        #層(layer：レイヤー)を定義\n",
    "        \n",
    "        ##右側(ファクターネットワーク)の層\n",
    "        self.fc_r1 = nn.Linear( \n",
    "            N*1, #データ(特徴)の入力ユニット数(1059銘柄*1)\n",
    "            P*1) #出力ユニット数(93企業特性*1)\n",
    "        \n",
    "        self.fc_r2 = nn.Linear( \n",
    "            P*1, #データ(特徴)の入力ユニット数(85企業特性*1)\n",
    "            K*1) #出力ユニット数(5ファクター*1)\n",
    "\n",
    "        ##左側(ベータネットワーク)の層\n",
    "        self.fc_l1 = nn.Linear(\n",
    "            N*P, #データ(特徴)の入力ユニット数(1059銘柄*85企業特性)\n",
    "            lhidden) #出力ユニット数(32)\n",
    "        \n",
    "        self.fc_l2 = nn.Linear(\n",
    "            lhidden, #入力ユニット数(32)\n",
    "            N*K) #出力結果への出力ユニット数(1059銘柄*5ファクター)\n",
    "        \n",
    "    def forward(self, x, y):\n",
    "        # フォワードパスを定義\n",
    "        \n",
    "        #右側(ファクターネットワーク)のフォワードパスを定義\n",
    "        x = (self.fc_r1(x))\n",
    "        x = (self.fc_r2(x))\n",
    "        \n",
    "        #左側(ベータネットワーク)のフォワードパスを定義\n",
    "        \n",
    "        y = F.relu(self.fc_l1(y)) #ReLU関数を適用\n",
    "        y = F.relu(self.fc_l2(y)) #ReLU関数を適用\n",
    "        \n",
    "        #サイズ自動調整\n",
    "        \n",
    "        y = y.view(K, N) #サイズ自動調整\n",
    "        x = x.view(1, K) #サイズ自動調整\n",
    "        \n",
    "        return x, y #返り値\n",
    "\n",
    "#NNの初期値\n",
    "N = int(com_num_5) #銘柄数(1059銘柄)\n",
    "P = int(chara_num)   #企業特性数(85特性)\n",
    "K = 5    #ファクター数\n",
    "lhidden = 32  #左側隠れ層1での圧縮次元数\n",
    "\n",
    "#モデル（Factorsクラス）のインスタンス化\n",
    "model = Factors()\n",
    "\n",
    "model = model.to(device)\n",
    "\n",
    "print(model) #モデルの内容を出力"
   ]
  },
  {
   "cell_type": "markdown",
   "id": "e52c3c8c",
   "metadata": {},
   "source": [
    "# 6. 学習&アウトオブサンプルテスト"
   ]
  },
  {
   "cell_type": "markdown",
   "id": "af311c77",
   "metadata": {},
   "source": [
    "## 6.1 学習&アウトオブサンプルテスト関数の定義"
   ]
  },
  {
   "cell_type": "code",
   "execution_count": 10,
   "id": "0125492a",
   "metadata": {},
   "outputs": [],
   "source": [
    "num_workers = 1\n",
    "num_month   = 1\n",
    "x_batch = num_month\n",
    "y_batch = num_month\n",
    "criterion = nn.MSELoss()\n",
    "count_max = 18 #学習に使っている年数\n",
    "loss_list = []\n",
    "\n",
    "#学習の関数\n",
    "def train(model, optimizer, alpha, device):\n",
    "    model.train()\n",
    "    for i_year in range(18):\n",
    "    #for i_year in range(4):\n",
    "        count = 0\n",
    "        xtrain_loader = torch.utils.data.DataLoader(x_2[:((i_year+1)*12),:], batch_size=x_batch, num_workers=num_workers, shuffle=False, pin_memory=True)\n",
    "        ytrain_loader = torch.utils.data.DataLoader(y_2[:((i_year+1)*12),:], batch_size=y_batch, num_workers=num_workers, shuffle=False, pin_memory=True)\n",
    "        for x_input, y_input in zip(xtrain_loader, ytrain_loader):\n",
    "            count += 1\n",
    "            x_input = x_input.to(device)\n",
    "            y_input = y_input.to(device)\n",
    "            u ,v = model(x_input.float(), y_input.float()) #モデルの出力を取得(左側出力v、右側出力uとする)\n",
    "            uv = torch.mm(u, v) #最終的に積をとる\n",
    "            loss = criterion(uv, x_input.float()) #入力x.float()と復元outputsの誤差を取得\n",
    "            \n",
    "            # パラメータのL1ノルムを損失関数に足す\n",
    "            #l1 = sum(torch.norm(w , 1) for w in model.parameters()) #リスト内包表記\n",
    "            l1 = sum(torch.norm(w/count_parameters2(model) , 1)  for w in model.parameters()) #リスト内包表記\n",
    "            #loss = loss + alpha*l1.clone().detach()\n",
    "            #loss = loss + alpha*l1.detach().clone()\n",
    "            loss = loss + alpha*l1.detach()\n",
    "            \n",
    "            #print(loss.item())\n",
    "            \n",
    "            if count == count_max*12:\n",
    "                print('最終的な学習loss', loss.item())\n",
    "                loss_list.append(loss.item())\n",
    "                \n",
    "            optimizer.zero_grad()\n",
    "            loss.backward()\n",
    "            optimizer.step()\n",
    "        #print(loss.item())\n",
    "\n",
    "def OOStest(model, device):\n",
    "    model.eval()\n",
    "    OOS_loss = 0\n",
    "    Numer_t = 0 #total R2の分子\n",
    "    Numer_p = 0 #pred R2の分子\n",
    "    Denom = 0 #total R2とpred R2の分母\n",
    "    t = torch.tensor(0) #時刻\n",
    "    u = torch.zeros(1,K)\n",
    "    u_2 = torch.zeros(1,K)\n",
    "    v = torch.zeros(K,N)\n",
    "    u = u.to(device)\n",
    "    u_2 = u_2.to(device)\n",
    "    v = v.to(device)\n",
    "    criterion2 = nn.MSELoss(reduction = 'sum') #total R2とpred R2の分子の計算を行うためのMSE\n",
    "    \n",
    "    with torch.no_grad():\n",
    "        for x_input, y_input in zip(xOOS_loader, yOOS_loader):\n",
    "            t += 1 #いわゆるt\n",
    "            x_input = x_input.to(device)\n",
    "            y_input = y_input.to(device)  \n",
    "            u ,v = model(x_input.float(), y_input.float()) #モデルの出力を取得(左側出力v、右側出力uとする)\n",
    "            uv = torch.mm(u, v) #最終的に積をとる\n",
    "            \n",
    "            loss = criterion(uv, x_input.float()) #入力x.float()と復元outputsの誤差を取得\n",
    "            OOS_loss += loss.item()  # 誤差(損失)の更新\n",
    "            \n",
    "            #pred R2の分子の算出の準備\n",
    "            u_2 += u\n",
    "            u_3 = u_2 - u\n",
    "            \n",
    "            if t > 1: #tが2以上ならば\n",
    "                #total R2の分子の算出\n",
    "                Numer_t += criterion2(x_input.float(), uv).item() #total R2の分子(r_{t} - β_{t-1}f_{t})^2の和\n",
    "                \n",
    "                #pred R2の分子の算出\n",
    "                lamb_t_1 = u_3/(t-1)\n",
    "                uv_2 = torch.mm(lamb_t_1, v) #積\n",
    "                Numer_p += criterion2(x_input.float(), uv_2).item() #pred R2の分子の算出のための計算(β_{t-1}λ_{t-1})の和\n",
    "\n",
    "                #total R2とpred R2の分母の算出\n",
    "                Denom += torch.sum(torch.square(x_input.float())).item() #total R2とpred R2の分母\n",
    "\n",
    "                        \n",
    "        OOS_loss = OOS_loss/len(xOOS_loader) #誤差の算出\n",
    "        R_total = 1 - (Numer_t/Denom) #total R2の算出\n",
    "        R_pred = 1 - (Numer_p/Denom) #pred R2の算出\n",
    "    return OOS_loss, R_total, R_pred\n"
   ]
  },
  {
   "cell_type": "markdown",
   "id": "5bd6848c",
   "metadata": {},
   "source": [
    "## 6.2 最適化関数の定義"
   ]
  },
  {
   "cell_type": "code",
   "execution_count": 11,
   "id": "06c7b5fb",
   "metadata": {},
   "outputs": [],
   "source": [
    "#最適化関数(specify loss function)をAdamに設定\n",
    "def get_optimizer(model):\n",
    "    adam_lr = 1e-5\n",
    "    optimizer = optim.Adam(model.parameters(), lr=adam_lr, weight_decay=0) #weight_decayは0\n",
    "    return optimizer"
   ]
  },
  {
   "cell_type": "markdown",
   "id": "6dd43d37",
   "metadata": {},
   "source": [
    "## 6.3 学習&アウトオブサンプルテストの実行"
   ]
  },
  {
   "cell_type": "code",
   "execution_count": 12,
   "id": "25bb2088",
   "metadata": {},
   "outputs": [
    {
     "name": "stdout",
     "output_type": "stream",
     "text": [
      "Epoch: 1\n",
      "最終的な学習loss 0.014041244052350521\n",
      "アウトオブサンプルloss 0.0063826179170670605\n",
      "Epoch: 2\n",
      "最終的な学習loss 0.01351357065141201\n",
      "アウトオブサンプルloss 0.006271087622735649\n",
      "Epoch: 3\n",
      "最終的な学習loss 0.013125465251505375\n",
      "アウトオブサンプルloss 0.006196807359810918\n",
      "Epoch: 4\n",
      "最終的な学習loss 0.01280166208744049\n",
      "アウトオブサンプルloss 0.006145121424924582\n",
      "Epoch: 5\n",
      "最終的な学習loss 0.012537829577922821\n",
      "アウトオブサンプルloss 0.0061089674825780095\n"
     ]
    }
   ],
   "source": [
    "# エポック数\n",
    "n_epochs = 5\n",
    "optimizer = get_optimizer(model)\n",
    "alpha = 1e-5\n",
    "\n",
    "i_year_3 = 5\n",
    "\n",
    "xOOS_loader = torch.utils.data.DataLoader(x_2[264:264+(i_year_3*12),:], batch_size=x_batch, num_workers=num_workers,pin_memory=True)\n",
    "yOOS_loader = torch.utils.data.DataLoader(y_2[264:264+(i_year_3*12),:], batch_size=y_batch, num_workers=num_workers,pin_memory=True)\n",
    "\n",
    "outloss_list = []\n",
    "Rtotal_list = []\n",
    "Rpred_list = []\n",
    "\n",
    "#学習&アウトオブサンプルテストの実行\n",
    "for epoch in range(1, n_epochs+1):\n",
    "    print('Epoch: {}'.format(epoch))\n",
    "    train_loss = 0.0\n",
    "    train(model, optimizer, alpha, device)\n",
    "    print('アウトオブサンプルloss', OOStest(model, device)[0])\n",
    "    outloss_list.append(OOStest(model, device)[0])\n",
    "    Rtotal_list.append(OOStest(model, device)[1])\n",
    "    Rpred_list.append(OOStest(model, device)[2])"
   ]
  },
  {
   "cell_type": "markdown",
   "id": "f0e9edd1",
   "metadata": {},
   "source": [
    "# 7. 学習損失 lossの可視化"
   ]
  },
  {
   "cell_type": "code",
   "execution_count": 13,
   "id": "728b1274",
   "metadata": {
    "scrolled": true
   },
   "outputs": [
    {
     "data": {
      "image/png": "[encoded data removed]",
      "text/plain": [
       "<Figure size 432x288 with 1 Axes>"
      ]
     },
     "metadata": {
      "needs_background": "light"
     },
     "output_type": "display_data"
    }
   ],
   "source": [
    "import matplotlib.pyplot as plt\n",
    "import japanize_matplotlib\n",
    "epoch_list = list(range(0, len(loss_list), 1)) #list(range(開始, 終了, 増分))\n",
    "plt.plot(epoch_list, loss_list)\n",
    "plt.xlabel(\"epoch\")\n",
    "plt.ylabel(\"loss\")\n",
    "plt.title(\"学習損失 loss\")\n",
    "plt.show()"
   ]
  },
  {
   "cell_type": "markdown",
   "id": "65addea4",
   "metadata": {},
   "source": [
    "# 8. アウトオブサンプル損失 outlossの可視化"
   ]
  },
  {
   "cell_type": "code",
   "execution_count": 14,
   "id": "d6c5a226",
   "metadata": {},
   "outputs": [
    {
     "data": {
      "image/png": "[encoded data removed]",
      "text/plain": [
       "<Figure size 432x288 with 1 Axes>"
      ]
     },
     "metadata": {
      "needs_background": "light"
     },
     "output_type": "display_data"
    }
   ],
   "source": [
    "epoch_list_2 = list(range(0, len(outloss_list), 1)) #list(range(開始, 終了, 増分))\n",
    "plt.plot(epoch_list_2, outloss_list)\n",
    "plt.xlabel(\"epoch\")\n",
    "plt.ylabel(\"loss\")\n",
    "plt.title(\"アウトオブサンプル損失 loss\")\n",
    "plt.show()"
   ]
  },
  {
   "cell_type": "markdown",
   "id": "52af37ef",
   "metadata": {},
   "source": [
    "# 9. 学習損失 lossとアウトオブサンプル損失 outlossの保存"
   ]
  },
  {
   "cell_type": "code",
   "execution_count": 15,
   "id": "c5b3b3d4",
   "metadata": {},
   "outputs": [],
   "source": [
    "epoch_list_2 = pd.Series(epoch_list, name = 'epoch')\n",
    "loss_list_2 = pd.Series(loss_list, name = 'learning loss')\n",
    "outloss_list_2 = pd.Series(outloss_list, name = 'outofsample loss')\n",
    "Rtotal_list_2 = pd.Series(Rtotal_list, name = 'Rtotal')\n",
    "Rpred_list_2 = pd.Series(Rpred_list, name = 'Rpred')\n",
    "epoloss = pd.concat([epoch_list_2, loss_list_2, outloss_list_2, Rtotal_list_2, Rpred_list_2], axis = 1)\n",
    "with pd.ExcelWriter('./epoch_loss(sample model)-2.xlsx') as writer: \n",
    "    epoloss.to_excel(writer)"
   ]
  },
  {
   "cell_type": "code",
   "execution_count": null,
   "id": "33a248a9",
   "metadata": {},
   "outputs": [],
   "source": []
  }
 ],
 "metadata": {
  "kernelspec": {
   "display_name": "Python 3 (ipykernel)",
   "language": "python",
   "name": "python3"
  },
  "language_info": {
   "codemirror_mode": {
    "name": "ipython",
    "version": 3
   },
   "file_extension": ".py",
   "mimetype": "text/x-python",
   "name": "python",
   "nbconvert_exporter": "python",
   "pygments_lexer": "ipython3",
   "version": "3.9.12"
  }
 },
 "nbformat": 4,
 "nbformat_minor": 5
}
